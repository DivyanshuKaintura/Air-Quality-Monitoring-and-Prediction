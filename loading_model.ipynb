{
 "cells": [
  {
   "cell_type": "code",
   "execution_count": 35,
   "metadata": {},
   "outputs": [],
   "source": [
    "import pandas as pd\n",
    "import numpy as np"
   ]
  },
  {
   "cell_type": "code",
   "execution_count": 36,
   "metadata": {},
   "outputs": [],
   "source": [
    "data = pd.read_csv('clean_city_day.csv')"
   ]
  },
  {
   "cell_type": "code",
   "execution_count": 37,
   "metadata": {},
   "outputs": [],
   "source": [
    "X = data.drop('AQI_Bucket', axis=1)\n",
    "Y = data['AQI_Bucket']"
   ]
  },
  {
   "cell_type": "code",
   "execution_count": 38,
   "metadata": {},
   "outputs": [],
   "source": [
    "test = X.loc[[0]]"
   ]
  },
  {
   "cell_type": "code",
   "execution_count": 39,
   "metadata": {},
   "outputs": [],
   "source": [
    "test['AQI'] = 160"
   ]
  },
  {
   "cell_type": "code",
   "execution_count": 40,
   "metadata": {},
   "outputs": [
    {
     "data": {
      "text/html": [
       "<div>\n",
       "<style scoped>\n",
       "    .dataframe tbody tr th:only-of-type {\n",
       "        vertical-align: middle;\n",
       "    }\n",
       "\n",
       "    .dataframe tbody tr th {\n",
       "        vertical-align: top;\n",
       "    }\n",
       "\n",
       "    .dataframe thead th {\n",
       "        text-align: right;\n",
       "    }\n",
       "</style>\n",
       "<table border=\"1\" class=\"dataframe\">\n",
       "  <thead>\n",
       "    <tr style=\"text-align: right;\">\n",
       "      <th></th>\n",
       "      <th>PM2.5</th>\n",
       "      <th>NO</th>\n",
       "      <th>NO2</th>\n",
       "      <th>NOx</th>\n",
       "      <th>CO</th>\n",
       "      <th>SO2</th>\n",
       "      <th>O3</th>\n",
       "      <th>Benzene</th>\n",
       "      <th>Toluene</th>\n",
       "      <th>AQI</th>\n",
       "    </tr>\n",
       "  </thead>\n",
       "  <tbody>\n",
       "    <tr>\n",
       "      <th>0</th>\n",
       "      <td>83.13</td>\n",
       "      <td>6.93</td>\n",
       "      <td>28.71</td>\n",
       "      <td>33.72</td>\n",
       "      <td>6.93</td>\n",
       "      <td>49.52</td>\n",
       "      <td>59.76</td>\n",
       "      <td>0.02</td>\n",
       "      <td>0.0</td>\n",
       "      <td>160</td>\n",
       "    </tr>\n",
       "  </tbody>\n",
       "</table>\n",
       "</div>"
      ],
      "text/plain": [
       "   PM2.5    NO    NO2    NOx    CO    SO2     O3  Benzene  Toluene  AQI\n",
       "0  83.13  6.93  28.71  33.72  6.93  49.52  59.76     0.02      0.0  160"
      ]
     },
     "execution_count": 40,
     "metadata": {},
     "output_type": "execute_result"
    }
   ],
   "source": [
    "test"
   ]
  },
  {
   "cell_type": "code",
   "execution_count": 41,
   "metadata": {},
   "outputs": [],
   "source": [
    "test['AZ'] = 20"
   ]
  },
  {
   "cell_type": "code",
   "execution_count": 76,
   "metadata": {},
   "outputs": [],
   "source": [
    "t2 = {'PM2.5': 120, 'NO': 10,\n",
    "      'NO2': 30, 'NOx': 40,\n",
    "      'SO2': 51, 'O3': 50,\n",
    "      'Benzene': 0.03, 'Toluene': '4',\n",
    "      'AQI': 400}\n",
    "t3 = [88, 8, 31, 38, 7, 80, 44, 0.03, 0, 247]"
   ]
  },
  {
   "cell_type": "code",
   "execution_count": 77,
   "metadata": {},
   "outputs": [
    {
     "data": {
      "text/plain": [
       "10"
      ]
     },
     "execution_count": 77,
     "metadata": {},
     "output_type": "execute_result"
    }
   ],
   "source": [
    "len(t3)"
   ]
  },
  {
   "cell_type": "code",
   "execution_count": 78,
   "metadata": {},
   "outputs": [],
   "source": [
    "t3 = [float(x) for x in t3]"
   ]
  },
  {
   "cell_type": "code",
   "execution_count": 79,
   "metadata": {},
   "outputs": [
    {
     "data": {
      "text/plain": [
       "[88.0, 8.0, 31.0, 38.0, 7.0, 80.0, 44.0, 0.03, 0.0, 247.0]"
      ]
     },
     "execution_count": 79,
     "metadata": {},
     "output_type": "execute_result"
    }
   ],
   "source": [
    "t3"
   ]
  },
  {
   "cell_type": "code",
   "execution_count": 80,
   "metadata": {},
   "outputs": [],
   "source": [
    "import joblib "
   ]
  },
  {
   "cell_type": "code",
   "execution_count": 81,
   "metadata": {},
   "outputs": [],
   "source": [
    "model = joblib.load('RN_model.pkl')"
   ]
  },
  {
   "cell_type": "code",
   "execution_count": 83,
   "metadata": {},
   "outputs": [
    {
     "name": "stderr",
     "output_type": "stream",
     "text": [
      "c:\\Users\\Abhinav\\.pyenv\\pyenv-win\\versions\\3.10.11\\lib\\site-packages\\sklearn\\base.py:493: UserWarning: X does not have valid feature names, but RandomForestClassifier was fitted with feature names\n",
      "  warnings.warn(\n"
     ]
    }
   ],
   "source": [
    "ans = model.predict([t3])"
   ]
  },
  {
   "cell_type": "code",
   "execution_count": 84,
   "metadata": {},
   "outputs": [
    {
     "data": {
      "text/plain": [
       "array(['Poor'], dtype=object)"
      ]
     },
     "execution_count": 84,
     "metadata": {},
     "output_type": "execute_result"
    }
   ],
   "source": [
    "ans"
   ]
  },
  {
   "cell_type": "code",
   "execution_count": 85,
   "metadata": {},
   "outputs": [
    {
     "data": {
      "text/plain": [
       "'Poor'"
      ]
     },
     "execution_count": 85,
     "metadata": {},
     "output_type": "execute_result"
    }
   ],
   "source": [
    "ans[0]"
   ]
  },
  {
   "cell_type": "code",
   "execution_count": 86,
   "metadata": {},
   "outputs": [
    {
     "data": {
      "text/plain": [
       "AQI_Bucket\n",
       "Moderate        8829\n",
       "Satisfactory    8224\n",
       "Poor            2781\n",
       "Very Poor       2337\n",
       "Good            1341\n",
       "Severe          1338\n",
       "Name: count, dtype: int64"
      ]
     },
     "execution_count": 86,
     "metadata": {},
     "output_type": "execute_result"
    }
   ],
   "source": [
    "data['AQI_Bucket'].value_counts()"
   ]
  },
  {
   "cell_type": "code",
   "execution_count": 87,
   "metadata": {},
   "outputs": [],
   "source": [
    "moderate = \"If you're part of a sensitive group (asthmatics, elderly, or those with heart/lung conditions), avoid prolonged outdoor activities like running or heavy exercise. \\n For others, you can still exercise outdoors but pay attention to how you are feeling. If you feel short of breath, slow down or take breaks. \\n Consider using an air purifier with a HEPA filter indoors, especially in bedrooms and living spaces. \\nAvoid activities that may worsen indoor air quality (e.g., smoking, burning candles, cooking without proper ventilation).\"\n"
   ]
  },
  {
   "cell_type": "code",
   "execution_count": 88,
   "metadata": {},
   "outputs": [],
   "source": [
    "satisfactory = \"Enjoy outdoor exercise and activities freely, as the air quality is safe for everyone, including sensitive groups like children and the elderly. \\n Use public transport, walk, or bike to reduce vehicle emissions and contribute to maintaining the good air quality. \\n Encourage others to adopt eco-friendly habits like reducing waste and using energy-efficient appliances.\""
   ]
  },
  {
   "cell_type": "code",
   "execution_count": 89,
   "metadata": {},
   "outputs": [],
   "source": [
    "poor = \"Avoid strenuous activities like running or cycling outdoors. If you need to go outside, try to stay indoors during peak pollution hours (like rush hours or times of heavy traffic). \\n Wear a mask, preferably an N95 or P100, to reduce inhalation of particulate matter. Use air purifiers with HEPA filters indoors to maintain clean indoor air. \\n Shut windows and doors to prevent polluted air from entering your home. If necessary, use air conditioning on recirculation mode to cool the air without pulling in outdoor pollutants.\""
   ]
  },
  {
   "cell_type": "code",
   "execution_count": 90,
   "metadata": {},
   "outputs": [],
   "source": [
    "very_poor = \"Avoid going outside, especially for prolonged or strenuous activities. Keep children, elderly, and individuals with respiratory conditions indoors. \\n Ensure you have a high-quality air purifier with a HEPA filter to clean indoor air. Keep it running in the rooms you use most, like bedrooms and living areas. \\n If you must go outside, wear a properly fitted N95 or P100 mask to protect yourself from inhaling harmful particles. Limit the time spent outdoors and avoid heavy exertion.\""
   ]
  },
  {
   "cell_type": "code",
   "execution_count": 91,
   "metadata": {},
   "outputs": [],
   "source": [
    "good = \"Engage in outdoor exercise, sports, or any other activities without concern, as the air poses no health risks. \\n Practice eco-friendly habits like using public transportation, carpooling, and conserving energy to help maintain the good air quality. \\n Stay informed about the air quality in your area to be prepared if conditions worsen due to weather or pollution.\""
   ]
  },
  {
   "cell_type": "code",
   "execution_count": null,
   "metadata": {},
   "outputs": [],
   "source": [
    "severe = \"Refrain from going outside unless absolutely necessary. Stay in well-ventilated indoor spaces with filtered air, and avoid strenuous activities even indoors if possible.\\n Run air purifiers with HEPA filters continuously to reduce indoor pollution. Keep windows and doors tightly closed to prevent polluted air from entering your home. Consider sealing gaps with weather strips. \\n If you must go outside for essential activities, wear a certified N95 or P100 mask to reduce exposure to harmful particulates and pollutants. Limit your time outdoors as much as possible.\""
   ]
  },
  {
   "cell_type": "code",
   "execution_count": null,
   "metadata": {},
   "outputs": [],
   "source": [
    "measures = {'Moderate': moderate,\n",
    "            'Satisfactory': satisfactory,\n",
    "            'Poor': poor,\n",
    "            'Very Poor': very_poor,\n",
    "            'Good': good,\n",
    "            'Severe': severe}"
   ]
  }
 ],
 "metadata": {
  "kernelspec": {
   "display_name": "Python 3",
   "language": "python",
   "name": "python3"
  },
  "language_info": {
   "codemirror_mode": {
    "name": "ipython",
    "version": 3
   },
   "file_extension": ".py",
   "mimetype": "text/x-python",
   "name": "python",
   "nbconvert_exporter": "python",
   "pygments_lexer": "ipython3",
   "version": "3.10.11"
  }
 },
 "nbformat": 4,
 "nbformat_minor": 2
}
